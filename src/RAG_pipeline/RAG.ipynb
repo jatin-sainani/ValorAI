{
 "cells": [
  {
   "cell_type": "code",
   "execution_count": 2,
   "metadata": {},
   "outputs": [
    {
     "name": "stdout",
     "output_type": "stream",
     "text": [
      "Requirement already satisfied: pinecone-client in c:\\users\\jssai\\appdata\\local\\programs\\python\\python311\\lib\\site-packages (5.0.1)\n",
      "Requirement already satisfied: openai in c:\\users\\jssai\\appdata\\local\\programs\\python\\python311\\lib\\site-packages (0.28.0)\n",
      "Requirement already satisfied: certifi>=2019.11.17 in c:\\users\\jssai\\appdata\\local\\programs\\python\\python311\\lib\\site-packages (from pinecone-client) (2024.8.30)\n",
      "Requirement already satisfied: pinecone-plugin-inference<2.0.0,>=1.0.3 in c:\\users\\jssai\\appdata\\local\\programs\\python\\python311\\lib\\site-packages (from pinecone-client) (1.1.0)\n",
      "Requirement already satisfied: pinecone-plugin-interface<0.0.8,>=0.0.7 in c:\\users\\jssai\\appdata\\local\\programs\\python\\python311\\lib\\site-packages (from pinecone-client) (0.0.7)\n",
      "Requirement already satisfied: tqdm>=4.64.1 in c:\\users\\jssai\\appdata\\local\\programs\\python\\python311\\lib\\site-packages (from pinecone-client) (4.66.6)\n",
      "Requirement already satisfied: typing-extensions>=3.7.4 in c:\\users\\jssai\\appdata\\local\\programs\\python\\python311\\lib\\site-packages (from pinecone-client) (4.12.2)\n",
      "Requirement already satisfied: urllib3>=1.26.0 in c:\\users\\jssai\\appdata\\local\\programs\\python\\python311\\lib\\site-packages (from pinecone-client) (2.2.2)\n",
      "Requirement already satisfied: requests>=2.20 in c:\\users\\jssai\\appdata\\local\\programs\\python\\python311\\lib\\site-packages (from openai) (2.32.3)\n",
      "Requirement already satisfied: aiohttp in c:\\users\\jssai\\appdata\\local\\programs\\python\\python311\\lib\\site-packages (from openai) (3.10.10)\n",
      "Requirement already satisfied: charset-normalizer<4,>=2 in c:\\users\\jssai\\appdata\\local\\programs\\python\\python311\\lib\\site-packages (from requests>=2.20->openai) (3.3.2)\n",
      "Requirement already satisfied: idna<4,>=2.5 in c:\\users\\jssai\\appdata\\local\\programs\\python\\python311\\lib\\site-packages (from requests>=2.20->openai) (3.8)\n",
      "Requirement already satisfied: colorama in c:\\users\\jssai\\appdata\\local\\programs\\python\\python311\\lib\\site-packages (from tqdm>=4.64.1->pinecone-client) (0.4.6)\n",
      "Requirement already satisfied: aiohappyeyeballs>=2.3.0 in c:\\users\\jssai\\appdata\\local\\programs\\python\\python311\\lib\\site-packages (from aiohttp->openai) (2.4.3)\n",
      "Requirement already satisfied: aiosignal>=1.1.2 in c:\\users\\jssai\\appdata\\local\\programs\\python\\python311\\lib\\site-packages (from aiohttp->openai) (1.3.1)\n",
      "Requirement already satisfied: attrs>=17.3.0 in c:\\users\\jssai\\appdata\\local\\programs\\python\\python311\\lib\\site-packages (from aiohttp->openai) (24.2.0)\n",
      "Requirement already satisfied: frozenlist>=1.1.1 in c:\\users\\jssai\\appdata\\local\\programs\\python\\python311\\lib\\site-packages (from aiohttp->openai) (1.5.0)\n",
      "Requirement already satisfied: multidict<7.0,>=4.5 in c:\\users\\jssai\\appdata\\local\\programs\\python\\python311\\lib\\site-packages (from aiohttp->openai) (6.1.0)\n",
      "Requirement already satisfied: yarl<2.0,>=1.12.0 in c:\\users\\jssai\\appdata\\local\\programs\\python\\python311\\lib\\site-packages (from aiohttp->openai) (1.17.0)\n",
      "Requirement already satisfied: propcache>=0.2.0 in c:\\users\\jssai\\appdata\\local\\programs\\python\\python311\\lib\\site-packages (from yarl<2.0,>=1.12.0->aiohttp->openai) (0.2.0)\n"
     ]
    },
    {
     "name": "stderr",
     "output_type": "stream",
     "text": [
      "\n",
      "[notice] A new release of pip available: 22.3 -> 24.3.1\n",
      "[notice] To update, run: python.exe -m pip install --upgrade pip\n"
     ]
    },
    {
     "name": "stdout",
     "output_type": "stream",
     "text": [
      "Requirement already satisfied: sentence-transformers in c:\\users\\jssai\\appdata\\local\\programs\\python\\python311\\lib\\site-packages (3.2.1)\n",
      "Requirement already satisfied: transformers<5.0.0,>=4.41.0 in c:\\users\\jssai\\appdata\\local\\programs\\python\\python311\\lib\\site-packages (from sentence-transformers) (4.46.0)\n",
      "Requirement already satisfied: tqdm in c:\\users\\jssai\\appdata\\local\\programs\\python\\python311\\lib\\site-packages (from sentence-transformers) (4.66.6)\n",
      "Requirement already satisfied: torch>=1.11.0 in c:\\users\\jssai\\appdata\\local\\programs\\python\\python311\\lib\\site-packages (from sentence-transformers) (2.4.1)\n",
      "Requirement already satisfied: scikit-learn in c:\\users\\jssai\\appdata\\local\\programs\\python\\python311\\lib\\site-packages (from sentence-transformers) (1.5.2)\n",
      "Requirement already satisfied: scipy in c:\\users\\jssai\\appdata\\local\\programs\\python\\python311\\lib\\site-packages (from sentence-transformers) (1.14.1)\n",
      "Requirement already satisfied: huggingface-hub>=0.20.0 in c:\\users\\jssai\\appdata\\local\\programs\\python\\python311\\lib\\site-packages (from sentence-transformers) (0.26.2)\n",
      "Requirement already satisfied: Pillow in c:\\users\\jssai\\appdata\\local\\programs\\python\\python311\\lib\\site-packages (from sentence-transformers) (10.4.0)\n",
      "Requirement already satisfied: filelock in c:\\users\\jssai\\appdata\\local\\programs\\python\\python311\\lib\\site-packages (from huggingface-hub>=0.20.0->sentence-transformers) (3.16.1)\n",
      "Requirement already satisfied: fsspec>=2023.5.0 in c:\\users\\jssai\\appdata\\local\\programs\\python\\python311\\lib\\site-packages (from huggingface-hub>=0.20.0->sentence-transformers) (2024.9.0)\n",
      "Requirement already satisfied: packaging>=20.9 in c:\\users\\jssai\\appdata\\local\\programs\\python\\python311\\lib\\site-packages (from huggingface-hub>=0.20.0->sentence-transformers) (24.1)\n",
      "Requirement already satisfied: pyyaml>=5.1 in c:\\users\\jssai\\appdata\\local\\programs\\python\\python311\\lib\\site-packages (from huggingface-hub>=0.20.0->sentence-transformers) (6.0.2)\n",
      "Requirement already satisfied: requests in c:\\users\\jssai\\appdata\\local\\programs\\python\\python311\\lib\\site-packages (from huggingface-hub>=0.20.0->sentence-transformers) (2.32.3)\n",
      "Requirement already satisfied: typing-extensions>=3.7.4.3 in c:\\users\\jssai\\appdata\\local\\programs\\python\\python311\\lib\\site-packages (from huggingface-hub>=0.20.0->sentence-transformers) (4.12.2)\n",
      "Requirement already satisfied: sympy in c:\\users\\jssai\\appdata\\local\\programs\\python\\python311\\lib\\site-packages (from torch>=1.11.0->sentence-transformers) (1.13.3)\n",
      "Requirement already satisfied: networkx in c:\\users\\jssai\\appdata\\local\\programs\\python\\python311\\lib\\site-packages (from torch>=1.11.0->sentence-transformers) (3.4)\n",
      "Requirement already satisfied: jinja2 in c:\\users\\jssai\\appdata\\local\\programs\\python\\python311\\lib\\site-packages (from torch>=1.11.0->sentence-transformers) (3.1.4)\n",
      "Requirement already satisfied: colorama in c:\\users\\jssai\\appdata\\local\\programs\\python\\python311\\lib\\site-packages (from tqdm->sentence-transformers) (0.4.6)\n",
      "Requirement already satisfied: numpy>=1.17 in c:\\users\\jssai\\appdata\\local\\programs\\python\\python311\\lib\\site-packages (from transformers<5.0.0,>=4.41.0->sentence-transformers) (2.1.1)\n",
      "Requirement already satisfied: regex!=2019.12.17 in c:\\users\\jssai\\appdata\\local\\programs\\python\\python311\\lib\\site-packages (from transformers<5.0.0,>=4.41.0->sentence-transformers) (2024.9.11)\n",
      "Requirement already satisfied: safetensors>=0.4.1 in c:\\users\\jssai\\appdata\\local\\programs\\python\\python311\\lib\\site-packages (from transformers<5.0.0,>=4.41.0->sentence-transformers) (0.4.5)\n",
      "Requirement already satisfied: tokenizers<0.21,>=0.20 in c:\\users\\jssai\\appdata\\local\\programs\\python\\python311\\lib\\site-packages (from transformers<5.0.0,>=4.41.0->sentence-transformers) (0.20.1)\n",
      "Requirement already satisfied: joblib>=1.2.0 in c:\\users\\jssai\\appdata\\local\\programs\\python\\python311\\lib\\site-packages (from scikit-learn->sentence-transformers) (1.4.2)\n",
      "Requirement already satisfied: threadpoolctl>=3.1.0 in c:\\users\\jssai\\appdata\\local\\programs\\python\\python311\\lib\\site-packages (from scikit-learn->sentence-transformers) (3.5.0)\n",
      "Requirement already satisfied: MarkupSafe>=2.0 in c:\\users\\jssai\\appdata\\local\\programs\\python\\python311\\lib\\site-packages (from jinja2->torch>=1.11.0->sentence-transformers) (2.1.5)\n",
      "Requirement already satisfied: charset-normalizer<4,>=2 in c:\\users\\jssai\\appdata\\local\\programs\\python\\python311\\lib\\site-packages (from requests->huggingface-hub>=0.20.0->sentence-transformers) (3.3.2)\n",
      "Requirement already satisfied: idna<4,>=2.5 in c:\\users\\jssai\\appdata\\local\\programs\\python\\python311\\lib\\site-packages (from requests->huggingface-hub>=0.20.0->sentence-transformers) (3.8)\n",
      "Requirement already satisfied: urllib3<3,>=1.21.1 in c:\\users\\jssai\\appdata\\local\\programs\\python\\python311\\lib\\site-packages (from requests->huggingface-hub>=0.20.0->sentence-transformers) (2.2.2)\n",
      "Requirement already satisfied: certifi>=2017.4.17 in c:\\users\\jssai\\appdata\\local\\programs\\python\\python311\\lib\\site-packages (from requests->huggingface-hub>=0.20.0->sentence-transformers) (2024.8.30)\n",
      "Requirement already satisfied: mpmath<1.4,>=1.1.0 in c:\\users\\jssai\\appdata\\local\\programs\\python\\python311\\lib\\site-packages (from sympy->torch>=1.11.0->sentence-transformers) (1.3.0)\n"
     ]
    },
    {
     "name": "stderr",
     "output_type": "stream",
     "text": [
      "\n",
      "[notice] A new release of pip available: 22.3 -> 24.3.1\n",
      "[notice] To update, run: python.exe -m pip install --upgrade pip\n"
     ]
    },
    {
     "name": "stdout",
     "output_type": "stream",
     "text": [
      "Requirement already satisfied: python-dotenv in c:\\users\\jssai\\appdata\\local\\programs\\python\\python311\\lib\\site-packages (1.0.1)\n"
     ]
    },
    {
     "name": "stderr",
     "output_type": "stream",
     "text": [
      "\n",
      "[notice] A new release of pip available: 22.3 -> 24.3.1\n",
      "[notice] To update, run: python.exe -m pip install --upgrade pip\n"
     ]
    }
   ],
   "source": [
    "!pip3 install pinecone-client openai\n",
    "!pip3 install sentence-transformers\n",
    "!pip3 install python-dotenv\n"
   ]
  },
  {
   "cell_type": "code",
   "execution_count": 3,
   "metadata": {},
   "outputs": [],
   "source": [
    "import os  \n",
    "import dotenv                                                                                                                                                                                                        \n",
    "from dotenv import load_dotenv, find_dotenv\n",
    "from pathlib import Path\n",
    "dotenv_path = find_dotenv()\n",
    "if dotenv_path:\n",
    "    load_dotenv(dotenv_path)\n",
    "else:\n",
    "    print(\"No .env file found. Please check its location.\")\n",
    "\n",
    "PINECONE_API_KEY = os.getenv(\"PINECONE_API_KEY_Valor\")\n",
    "PINECONE_ENVIRONMENT = os.getenv(\"PINECONE_ENV_Valor\")\n",
    "OPENAI_API_KEY = os.getenv(\"OPEN_AI_API_KEY_Valor\")\n",
    "access_token = os.getenv(\"DistilBert_AccessToken_Valor\")"
   ]
  },
  {
   "cell_type": "code",
   "execution_count": 38,
   "metadata": {},
   "outputs": [
    {
     "name": "stdout",
     "output_type": "stream",
     "text": [
      "Existing indexes: ['only-comments', 'json', 'quickstart', 'subreddit-data-index', 'subreddit-data-index-updated']\n"
     ]
    }
   ],
   "source": [
    "import numpy as np\n",
    "from sentence_transformers import SentenceTransformer\n",
    "from transformers import AutoTokenizer, AutoModelForCausalLM\n",
    "import pinecone \n",
    "from pinecone import Pinecone\n",
    "\n",
    "#openai.api_key = OPENAI_API_KEY\n",
    "\n",
    "\n",
    "pc = Pinecone(api_key=PINECONE_API_KEY)\n",
    "\n",
    "# Define the Pinecone index name and specs\n",
    "#index_name = \"subreddit-data-index-updated\"\n",
    "index_name = \"json\"\n",
    "existing_indexes = pc.list_indexes().names()\n",
    "print(\"Existing indexes:\", existing_indexes)\n",
    "index = Pinecone.Index(self=pc,name=index_name)\n"
   ]
  },
  {
   "cell_type": "code",
   "execution_count": 12,
   "metadata": {},
   "outputs": [
    {
     "name": "stderr",
     "output_type": "stream",
     "text": [
      "No sentence-transformers model found with name distilbert-base-uncased. Creating a new one with mean pooling.\n"
     ]
    }
   ],
   "source": [
    "#embedding_model = SentenceTransformer('all-MiniLM-L6-v2')  # Model for generating query embeddings\n",
    "embedding_model = SentenceTransformer('distilbert-base-uncased')\n",
    "tokenizer = AutoTokenizer.from_pretrained(\"meta-llama/Llama-3.2-1B-Instruct\",access_token=access_token)\n",
    "generation_model = AutoModelForCausalLM.from_pretrained(\"meta-llama/Llama-3.2-1B-Instruct\")"
   ]
  },
  {
   "cell_type": "code",
   "execution_count": 9,
   "metadata": {},
   "outputs": [],
   "source": [
    "def generate_query_embedding(query):\n",
    "    return embedding_model.encode(query).tolist()\n",
    "\n",
    "def retrieve_documents(query, top_k=5):\n",
    "    query_embedding = generate_query_embedding(query)  # Generate embedding for query\n",
    "    search_results = index.query(vector=query_embedding, top_k=top_k, include_metadata=True)  # Perform vector search\n",
    "\n",
    "    # Extract text and metadata from results\n",
    "    documents = []\n",
    "    for match in search_results[\"matches\"]:\n",
    "        metadata = match[\"metadata\"]\n",
    "        print(metadata)\n",
    "        # Dynamically get the main content from metadata based on available keys\n",
    "        body = metadata.get(\"text\") or \"No text available\"\n",
    "        documents.append({\"body\": body, \"metadata\": metadata})\n",
    "    return documents\n"
   ]
  },
  {
   "cell_type": "code",
   "execution_count": 42,
   "metadata": {},
   "outputs": [],
   "source": [
    "#Generate response using the context\n",
    "def generate_response(context, query):\n",
    "    prefix = \"The context below are posts and comments from subreddit r/VAbenefits, use the relevant similar contexts and frame the answer to the question appropriately but do not mention about the context in the response. If the context is not enough, please use your own dataset to answer the question. Do not give the exact context as the answer\"\n",
    "    input_text = f\"{prefix}\\n\\nContext: {context}\\n\\nQuestion: {query}\\n\\nAnswer:\"\n",
    "    inputs = tokenizer.encode(input_text, return_tensors=\"pt\")\n",
    "    outputs = generation_model.generate(inputs, max_length=2500, num_return_sequences=1)\n",
    "    return tokenizer.decode(outputs[0], skip_special_tokens=True)\n",
    "\n",
    "# def generate_response(context, query):\n",
    "#     input_text = f\"Context: {context}\\n\\nQuestion: {query}\\n\\nAnswer:\"\n"
   ]
  },
  {
   "cell_type": "code",
   "execution_count": 16,
   "metadata": {},
   "outputs": [],
   "source": [
    "#Generate response without the context for comparison\n",
    "def generate_response_without_context( query):\n",
    "    input_text = f\"Question: {query}\\n\\nAnswer:\"\n",
    "    inputs = tokenizer.encode(input_text, return_tensors=\"pt\")\n",
    "    outputs = generation_model.generate(inputs, max_length=1500, num_return_sequences=1)\n",
    "    return tokenizer.decode(outputs[0], skip_special_tokens=True)"
   ]
  },
  {
   "cell_type": "code",
   "execution_count": 46,
   "metadata": {},
   "outputs": [
    {
     "name": "stderr",
     "output_type": "stream",
     "text": [
      "The attention mask and the pad token id were not set. As a consequence, you may observe unexpected behavior. Please pass your input's `attention_mask` to obtain reliable results.\n",
      "Setting `pad_token_id` to `eos_token_id`:None for open-end generation.\n"
     ]
    },
    {
     "name": "stdout",
     "output_type": "stream",
     "text": [
      "{'comments': ['MH is linked to sleep apnea... Yet being a black male is linked to type 2 diabetes.\\\\n\\\\n\\\\nDoes being black cause diabetes?\\\\n\\\\n\\\\nMH does not cause sleep apnea.\\\\n\\\\n\\\\nIf you want to be successful with SA then you need to fine the cause, and linked that to your MH.\\\\n\\\\n\\\\nNexus is a \"link\\', but when medical journals say MH is a link, it\\'s not a nexus. It might be evidence, but not a nexus.', '[removed]', 'Unless your sleep apnea was caused in service, I would recommend a nexus because is very hard to prove without being sc Secondary conditions are the key to getting it connected & a Nexus letter explains on how it is service connected to certain disabilities that your already service connected for', \"Sadly, the VA doesn't care what your opinion is on this.  You need a medical professional to look at your circumstances and provide a medical opinion as to what the cause of the OSA is.  I wish it was as easy as just giving a personal opinion....100% would be the norm.\", \"Uphill battle if you weren't diagnosed in service. Do-able but hard.. are you heavy by any chance? PTSD caused obesity - Obesity caused OSA.\", 'The disruption in sleep patterns caused by sleep apnea can increase your risk for or exasterbate mental health conditons.', 'It is not appropriate to advertise companies, products, or services on this sub.\\\\n\\\\nDo not recommend a service or product - unless as a comment to a post specifically asking for recommendations, and it is a service or product that you have direct experience using.  Your post should specifically describe your experiences and why you are satisfied.\\\\n\\\\nPosts that promote a service provider will be deleted.'], 'created_utc': 1732599932.0, 'id': '1h04slx', 'text': \"Sleep Apnea  About a year ago, the VA diagnosed me with Moderately severe sleep apnea. I'm currently rated at 70% for some mental health issues. If I file a claim for sleep apnea, how do I explain, I think it's related to my mental issues? \", 'type': 'submission', 'url': 'https://www.reddit.com/r/VeteransBenefits/comments/1h04slx/sleep_apnea/'}\n",
      "{'comments': [], 'created_utc': 1732573122.0, 'id': '1gzvpev', 'text': 'New appointments/diagnosis claims during meb/bdd? Currently undergoing MEB and BDD, 618 just sent to the IPEB last week so Im probably 2-3 months out from separation/retirement.\\\\n\\\\nNow I have had sleep issues documented for awhile, I denied being prescribed ambien as treatment as it felt like a Narcotic to me. Just now being referred to a sleep study. My question is if I end up with a sleep apnea diagnosis, do I file an additional claim separately through va? Id imagine its too late to add anything into my bdd claim now. \\\\n', 'type': 'submission', 'url': 'https://www.reddit.com/r/VeteransBenefits/comments/1gzvpev/new_appointmentsdiagnosis_claims_during_mebbdd/'}\n",
      "{'comments': [\"Sleep apnea is not insomnia so there is no prohibition from getting separate evaluations. Though I'm not sure how you would intend to link sleep apnea to your service.\", 'I dont really know tbh. I thought that sleep apnea is a serious condition that you stop breathing when sleeping and thats why you need cpap to help you breath while sleeping. Wife told me i snored a lot and i was tired during the day and had pressure on my chest when i woke up but i assumed the reason was the insomnia or i didnt sleep well enough. Now i know that sleep apnea has different severity levels. If i am diagnosed with sleep apnea i will submit a new claim. And can i use VA clinic record for my claim or i have to redo the C&P and sleep study again ?'], 'created_utc': 1732593941.0, 'id': '1h031ud', 'text': 'Insomnia and Sleep apnea Hello,\\\\n\\\\nI was in active duty from 2/2019 - 2/2023. I got VA disability for insomnia and other disabilities (no ptsd no mental health) . My insomnia worsened. I visited VA clinic multiple times for treatment. They prescribed me medication but it didnt really help. The VA doctor recommended a sleep study for me. I just had it done yesterday. I brought the sleep study kit home with me. If i get diagnosed with sleep apnea ( no record in the Army) am i able to claim it as new claim and receive disability ratings for both sleep apnea and insomnia ? ', 'type': 'submission', 'url': 'https://www.reddit.com/r/VeteransBenefits/comments/1h031ud/insomnia_and_sleep_apnea/'}\n",
      "Retrieved Context:\n",
      " Document 1: Sleep Apnea  About a year ago, the VA diagnosed me with Moderately severe sleep apnea. I'm currently rated at 70% for some mental health issues. If I file a claim for sleep apnea, how do I explain, I think it's related to my mental issues?  ['MH is linked to sleep apnea... Yet being a black male is linked to type 2 diabetes.\\\\n\\\\n\\\\nDoes being black cause diabetes?\\\\n\\\\n\\\\nMH does not cause sleep apnea.\\\\n\\\\n\\\\nIf you want to be successful with SA then you need to fine the cause, and linked that to your MH.\\\\n\\\\n\\\\nNexus is a \"link\\', but when medical journals say MH is a link, it\\'s not a nexus. It might be evidence, but not a nexus.', '[removed]', 'Unless your sleep apnea was caused in service, I would recommend a nexus because is very hard to prove without being sc Secondary conditions are the key to getting it connected & a Nexus letter explains on how it is service connected to certain disabilities that your already service connected for']\n",
      "\n",
      "Document 2: New appointments/diagnosis claims during meb/bdd? Currently undergoing MEB and BDD, 618 just sent to the IPEB last week so Im probably 2-3 months out from separation/retirement.\\n\\nNow I have had sleep issues documented for awhile, I denied being prescribed ambien as treatment as it felt like a Narcotic to me. Just now being referred to a sleep study. My question is if I end up with a sleep apnea diagnosis, do I file an additional claim separately through va? Id imagine its too late to add anything into my bdd claim now. \\n []\n",
      "\n",
      "Document 3: Insomnia and Sleep apnea Hello,\\n\\nI was in active duty from 2/2019 - 2/2023. I got VA disability for insomnia and other disabilities (no ptsd no mental health) . My insomnia worsened. I visited VA clinic multiple times for treatment. They prescribed me medication but it didnt really help. The VA doctor recommended a sleep study for me. I just had it done yesterday. I brought the sleep study kit home with me. If i get diagnosed with sleep apnea ( no record in the Army) am i able to claim it as new claim and receive disability ratings for both sleep apnea and insomnia ?  [\"Sleep apnea is not insomnia so there is no prohibition from getting separate evaluations. Though I'm not sure how you would intend to link sleep apnea to your service.\", 'I dont really know tbh. I thought that sleep apnea is a serious condition that you stop breathing when sleeping and thats why you need cpap to help you breath while sleeping. Wife told me i snored a lot and i was tired during the day and had pressure on my chest when i woke up but i assumed the reason was the insomnia or i didnt sleep well enough. Now i know that sleep apnea has different severity levels. If i am diagnosed with sleep apnea i will submit a new claim. And can i use VA clinic record for my claim or i have to redo the C&P and sleep study again ?']\n",
      "\n",
      "Generated Response:\n",
      " The context below are posts and comments from subreddit r/VAbenefits, use the relevant similar contexts and frame the answer to the question appropriately but do not mention about the context in the response. If the context is not enough, please use your own dataset to answer the question. Do not give the exact context as the answer\n",
      "\n",
      "Context: Document 1: Sleep Apnea  About a year ago, the VA diagnosed me with Moderately severe sleep apnea. I'm currently rated at 70% for some mental health issues. If I file a claim for sleep apnea, how do I explain, I think it's related to my mental issues?  ['MH is linked to sleep apnea... Yet being a black male is linked to type 2 diabetes.\\\\n\\\\n\\\\nDoes being black cause diabetes?\\\\n\\\\n\\\\nMH does not cause sleep apnea.\\\\n\\\\n\\\\nIf you want to be successful with SA then you need to fine the cause, and linked that to your MH.\\\\n\\\\n\\\\nNexus is a \"link\\', but when medical journals say MH is a link, it\\'s not a nexus. It might be evidence, but not a nexus.', '[removed]', 'Unless your sleep apnea was caused in service, I would recommend a nexus because is very hard to prove without being sc Secondary conditions are the key to getting it connected & a Nexus letter explains on how it is service connected to certain disabilities that your already service connected for']\n",
      "\n",
      "Document 2: New appointments/diagnosis claims during meb/bdd? Currently undergoing MEB and BDD, 618 just sent to the IPEB last week so Im probably 2-3 months out from separation/retirement.\\n\\nNow I have had sleep issues documented for awhile, I denied being prescribed ambien as treatment as it felt like a Narcotic to me. Just now being referred to a sleep study. My question is if I end up with a sleep apnea diagnosis, do I file an additional claim separately through va? Id imagine its too late to add anything into my bdd claim now. \\n []\n",
      "\n",
      "Document 3: Insomnia and Sleep apnea Hello,\\n\\nI was in active duty from 2/2019 - 2/2023. I got VA disability for insomnia and other disabilities (no ptsd no mental health). My insomnia worsened. I visited VA clinic multiple times for treatment. They prescribed me medication but it didnt really help. The VA doctor recommended a sleep study for me. I just had it done yesterday. I brought the sleep study kit home with me. If i get diagnosed with sleep apnea ( no record in the Army) am i able to claim it as new claim and receive disability ratings for both sleep apnea and insomnia?  [\"Sleep apnea is not insomnia so there is no prohibition from getting separate evaluations. Though I'm not sure how you would intend to link sleep apnea to your service.\", 'I dont really know tbh. I thought that sleep apnea is a serious condition that you stop breathing when sleeping and thats why you need cpap to help you breath while sleeping. Wife told me i snored a lot and i was tired during the day and had pressure on my chest when i woke up but i assumed the reason was the insomnia or i didnt sleep well enough. Now i know that sleep apnea has different severity levels. If i am diagnosed with sleep apnea i will submit a new claim. And can i use VA clinic record for my claim or i have to redo the C&P and sleep study again?']\n",
      "\n",
      "Question: should i be concerned about losing va disability if the latest assesment says that i do not have sleep apnea?\n",
      "\n",
      "Answer: If the latest assessment indicates that you do not have sleep apnea, it is likely that you will not be eligible for a separate VA disability rating for sleep apnea. This is because the VA has a process for rating disabilities based on the presence of service-connected conditions, and sleep apnea is considered a service-connected condition. If you are not diagnosed with sleep apnea, you may be able to continue to claim a separate disability rating for insomnia or other conditions for which you have already received a service-connected rating. However, if you are not diagnosed with sleep apnea, it is likely that you will not be eligible for a separate VA disability rating for sleep apnea. You may want to consider discussing your concerns with your VA representative or a VA benefits counselor to determine the best course of action for your specific situation.\n"
     ]
    }
   ],
   "source": [
    "# Main pipeline\n",
    "def main():\n",
    "    # Example query\n",
    "    #query = \"Can a veteran lose their benefits if they have a drug addiction?\"\n",
    "    query = \"should i be concerned about losing va disability if the latest assesment says that i do not have sleep apnea?\"\n",
    "\n",
    "    # Retrieve relevant documents from Pinecone\n",
    "    retrieved_docs = retrieve_documents(query, top_k=3)\n",
    "\n",
    "    # Combine retrieved documents into a single context\n",
    "    context = \"\\n\\n\".join([f\"Document {i+1}: {doc['body']} {doc['metadata']['comments'][:3]}\" for i, doc in enumerate(retrieved_docs)])\n",
    "\n",
    "    # Generate response\n",
    "    response = generate_response(context, query)\n",
    "    print(\"Retrieved Context:\\n\", context)\n",
    "    print(\"\\nGenerated Response:\\n\", response)\n",
    "\n",
    "\n",
    "if __name__ == \"__main__\":\n",
    "    main()"
   ]
  },
  {
   "cell_type": "code",
   "execution_count": 47,
   "metadata": {},
   "outputs": [
    {
     "name": "stderr",
     "output_type": "stream",
     "text": [
      "The attention mask and the pad token id were not set. As a consequence, you may observe unexpected behavior. Please pass your input's `attention_mask` to obtain reliable results.\n",
      "Setting `pad_token_id` to `eos_token_id`:None for open-end generation.\n"
     ]
    },
    {
     "name": "stdout",
     "output_type": "stream",
     "text": [
      "{'comments': ['MH is linked to sleep apnea... Yet being a black male is linked to type 2 diabetes.\\\\n\\\\n\\\\nDoes being black cause diabetes?\\\\n\\\\n\\\\nMH does not cause sleep apnea.\\\\n\\\\n\\\\nIf you want to be successful with SA then you need to fine the cause, and linked that to your MH.\\\\n\\\\n\\\\nNexus is a \"link\\', but when medical journals say MH is a link, it\\'s not a nexus. It might be evidence, but not a nexus.', '[removed]', 'Unless your sleep apnea was caused in service, I would recommend a nexus because is very hard to prove without being sc Secondary conditions are the key to getting it connected & a Nexus letter explains on how it is service connected to certain disabilities that your already service connected for', \"Sadly, the VA doesn't care what your opinion is on this.  You need a medical professional to look at your circumstances and provide a medical opinion as to what the cause of the OSA is.  I wish it was as easy as just giving a personal opinion....100% would be the norm.\", \"Uphill battle if you weren't diagnosed in service. Do-able but hard.. are you heavy by any chance? PTSD caused obesity - Obesity caused OSA.\", 'The disruption in sleep patterns caused by sleep apnea can increase your risk for or exasterbate mental health conditons.', 'It is not appropriate to advertise companies, products, or services on this sub.\\\\n\\\\nDo not recommend a service or product - unless as a comment to a post specifically asking for recommendations, and it is a service or product that you have direct experience using.  Your post should specifically describe your experiences and why you are satisfied.\\\\n\\\\nPosts that promote a service provider will be deleted.'], 'created_utc': 1732599932.0, 'id': '1h04slx', 'text': \"Sleep Apnea  About a year ago, the VA diagnosed me with Moderately severe sleep apnea. I'm currently rated at 70% for some mental health issues. If I file a claim for sleep apnea, how do I explain, I think it's related to my mental issues? \", 'type': 'submission', 'url': 'https://www.reddit.com/r/VeteransBenefits/comments/1h04slx/sleep_apnea/'}\n",
      "{'comments': [], 'created_utc': 1732573122.0, 'id': '1gzvpev', 'text': 'New appointments/diagnosis claims during meb/bdd? Currently undergoing MEB and BDD, 618 just sent to the IPEB last week so Im probably 2-3 months out from separation/retirement.\\\\n\\\\nNow I have had sleep issues documented for awhile, I denied being prescribed ambien as treatment as it felt like a Narcotic to me. Just now being referred to a sleep study. My question is if I end up with a sleep apnea diagnosis, do I file an additional claim separately through va? Id imagine its too late to add anything into my bdd claim now. \\\\n', 'type': 'submission', 'url': 'https://www.reddit.com/r/VeteransBenefits/comments/1gzvpev/new_appointmentsdiagnosis_claims_during_mebbdd/'}\n",
      "{'comments': [\"Sleep apnea is not insomnia so there is no prohibition from getting separate evaluations. Though I'm not sure how you would intend to link sleep apnea to your service.\", 'I dont really know tbh. I thought that sleep apnea is a serious condition that you stop breathing when sleeping and thats why you need cpap to help you breath while sleeping. Wife told me i snored a lot and i was tired during the day and had pressure on my chest when i woke up but i assumed the reason was the insomnia or i didnt sleep well enough. Now i know that sleep apnea has different severity levels. If i am diagnosed with sleep apnea i will submit a new claim. And can i use VA clinic record for my claim or i have to redo the C&P and sleep study again ?'], 'created_utc': 1732593941.0, 'id': '1h031ud', 'text': 'Insomnia and Sleep apnea Hello,\\\\n\\\\nI was in active duty from 2/2019 - 2/2023. I got VA disability for insomnia and other disabilities (no ptsd no mental health) . My insomnia worsened. I visited VA clinic multiple times for treatment. They prescribed me medication but it didnt really help. The VA doctor recommended a sleep study for me. I just had it done yesterday. I brought the sleep study kit home with me. If i get diagnosed with sleep apnea ( no record in the Army) am i able to claim it as new claim and receive disability ratings for both sleep apnea and insomnia ? ', 'type': 'submission', 'url': 'https://www.reddit.com/r/VeteransBenefits/comments/1h031ud/insomnia_and_sleep_apnea/'}\n",
      "{'comments': ['The biggest reason to file new claims after 100% is if youre going to die from that condition within 10yrs from being rated 100%.  If you die from a non-service connected issue after the 10yr mark your spouse can collect DIC (Dependency and Indemnity Compensation) whether the condition is service connected or not.\\\\n\\\\nhttps://www.va.gov/family-and-caregiver-benefits/survivor-compensation/dependency-indemnity-compensation/', 'i am 100 p and t but have had a quadruple bypass and have a defibrillator   i figured like you if i pass away prior to 10 years it will probably be because of my heart. i want my wife to keep getting paid along with real estate taxes. They will cry dont poke the bear but you have to weigh it out. if your claims have documentation and you have kept your appointments then you probably have no issue with reduction because youll have proof to show it hasnt gotten better. If you dont have medical documentation then id probably not risk it. I just filed for hypertension and coronary artery disease so prayerfully my wife will be protected. just my 2 cents', 'If you truly believe that it is service connected, continue to collect evidence from doctors and ongoing treatment.  After that, follow all other advice on thread.', 'For what everyone else mentioned about dying from a non service connected disability and if you were pushing for smc.', '![gif](giphy|l0K4puBUN4w6G4ksE)\\\\n\\\\nDont poke him', 'Not every condition is service connected. Some of the conditions would have happened regardless of job due to genetics.\\\\n\\\\nWorsening of an existing condition, sure. But my guess is that your heart condition was likely not caused by your time in service based on what you wrote, nor did it get worse because of service.\\\\n\\\\nYou can keep trying of course, but life insurance is your best bet to protect your wife.', 'I was already 100 PT. Got diagnosed with cancer and approved the other day. \\\\n\\\\nI did poke the bear and was successful.', 'I did for ED. We will see how it goes.', 'It is for certain conditions. Especially if you have a spouse as it could entitle her to DIC if the unfortunate were to happen.', 'I did. I have liver and pancreas issues. If I die from those issues the VA has to pay out for those. Also I could get SMC if my daily life is impacted.\\\\n\\\\n\\\\nJust make sure you document everything and you talk about everything with your docs.', 'No. Dont poke the proverbial bear.', 'ABSOLUTELY', 'No.', 'Sorry for jumping your post. What if you have a 1993 rating for hypertension but didnt become 100PT until 2023', 'No', 'No', 'Leave it alone man!!!!!!!!! Just get medical care for the problem. You dont have to be service connected to get care!!!!!! Stop poking the bear!!!!!', 'Usually it is not worth it. If youll be living overseas it will probably be worth it to make sure your medical care for a specific condition is covered. DIC is a consideration depending on how long youve been 100%PT', \"Don't push it. They are hungry to reduce people. At 100% everything is covered medically.\", 'How long have you been P&T and when do you hit 20yrs (or age 55 if sooner). Its always a risk opening a new claim, but if youve been getting regular treatment for your current condition(s) and have drs who will back you up, then given your situation it might be worth the risk', 'No', \"I had open heart surgery in 2018 and was denied.  I'm working on an appeal, but I also have other claims in that may get me to 100% so I understand your predicament.\", 'If you are 100% P&T then go for Aid and Attendance. My husband (the veteran) is on A&A at a low level.', '[removed]', 'Best response right here', 'Bingo! what he said is perfect', 'Now you need to be p&t 100%', 'I came to say this but I knew in my heart it had already been said', \"Well and I guess that's really the unknown. From what I understand my heart could stop at any time.\", 'I am always confused when someone posts this link, no one has been able to give me clarification. The note for this situation in the link says Note: Totally disabling means the Veterans injuries made it impossible for them to work. To me that means that if you work, or can work (meaning you arent TDUI), then you dont fit the description of totally disabled as it pertains the DIC. You can be 100% P&T and still work, so does that mean your survivor wont get DIC unless you die from something service connected? It seems like they made the wording in the note like that on purpose.', 'is 100 C&P mean is it permanent ?\\\\n\\\\n  \\\\nwhat does CP mean in va rating?', 'Cocaine bear?', \"It was a heart condition that started in service and I went to medical several times about it but they never did the proper testing to identify it. It wasn't identified until after service when the VA performed the stress test that was needed.\", 'According to your description a major chunk of disabilities that get rated are not service connected. The service connection is mainly looking for it starting during service and is possible that the service could have contributed to bringing it up or making it worse.', 'So sorry. Dont poke Smoky the Bear.', 'I just did an HLR for the same thing. 100% P&T, I was just medically retired, I was prescribed medication for ED while active duty after being medicated for PTSD, but the VA denied it for some reason. Seems like it was worth a shot to me. Well see.', 'Can you share the liver claim lease ? My ALT is high. Can we claim that ?', 'Im with you.', 'dic is connected to if you die from a service connected disability. if you are 100 p and t for 8 years with that disability you get an extra 300 and change. if you are not service connected for your cause of death for atleast ten years your spouse doesnt qualify for dic.', \"I'm thinking more benefits for my family if I was to die in a year or two.\", \"I'm not p&t yet. I'm finalizing my supplemental claims right now and should be submitting everything this next month. If my claims rate where I think they should i could likely be 100% in a few months. Im currently at 60%. I have a claim for bilateral knee pains from an ACL surgery, Back pain secondary to my knees, IBS, rhinitis, mental health/anxiety, and chronic fatigue syndrome. Everything is documented and i have a current diagnosis for everything.\", 'I had an ablation in 2018 and stopped going to the VA after Covid. So when I filed my last claim it was denied because I had \"no current diagnosis on file\". The VA did the **** surgery.  I also claim heart palpitations and the was denied because i have a heart condition that likely causes the palpitations. So it\\'s like the heart condition is no longer a factor when I\\'m claiming it, but is a factor when I\\'m claiming something else related to my heart.', \"Bad news, we had to remove your comment because it contained incorrect information. The reason we remove comments like this is to keep bad advice or information from spreading further. \\\\n\\\\nWe all sometimes make mistakes, so please understand that we don't do this because we think you are ****, a bad person, or deliberately giving out bad advice. \\\\n\\\\nIf you believe you are indeed correct, please find a reputable source that supports your comment and [Message the Moderators](https://reddit.com/message/compose?to=/r/VeteransBenefits)\\\\n\\\\nMessaging the Mods and demanding that we restore your post without providing supporting sources will not result in a favorable outcome for you.\", 'P&T means Permanent and Total.', 'I had a similar type of thing spent half of my enlistment in and out of medical for heart and circulatory type issues and wasnt until I was almost done with my time that they finally came up with some answers for some of them what was going on, the last part I had a doc finally say hey it could be this lets put you on this med and if it gets better that is the answer, and it helped but he never wrote in that it was that and I had a doc during the va exams finally write in the official diagnosis for it.', 'I specifically said that they had to be aggravated by service.', 'It was a quick and easy approval. I get an extra $400 a month now and to my family if cancer takes me out one day theyd get a lump some of money. The VA dont ask much about cancer because its a pretty serious diagnosis.', \"I don't know if you claim it. I am claiming because I have never had issues. But I took vraylar and lactimal and now I have issues with cyst in my liver and bile duct issues. I gained 110lbs on pysc meds due to my MH. Those are side effects. I could be denied and I may have to get a nexus or appeal. But I want them to tell me no with a lawyer.\\\\n\\\\n\\\\nI have community care for all of this and will talk to them about this before my exams. I will see.\", 'I can understand that. You are a good husband and dad for taking that extra step for them. I wish you the best', 'can one be 100% but not P&T?', 'This last C&P exam i went too the Dr reviewed all my record and we talked about hownthat condition could be SC, but i was never giving an exam for it because the last time I had been seen for it at the VA was pre covid so they considered me as not having a current diagnosis.\\\\n\\\\nI went to the VA and got reevaluated so I can submit again, but this is the 3rd time trying.\\\\n\\\\nIf this fails I just might lawyer up.', 'Yes, if not P&**** means that they can ask to be reevaluated at some point to see if it might have gotten better to look at possible reductions, if P&T you are typically set at 100 with no risk of being reduced unless they determine you got that rating fraudulently.', 'Yes, but understand that 100% = T (Total).\\\\n\\\\nIf you say P&T, you dont need to say 100%. I no longer do.\\\\n\\\\n[PERSONAL NOTE: In the world of disabled vets, Im simply P&T (as of 2022). In the wider world, I might declare myself a Vietnam vet; and if the conversation merits it, I might declare myself disabled in consequence; and if the conversation further merits it, I might add my disability is permanent and total.]\\\\n\\\\nIf you say youre 100%, the only thing not known is whether that magnitude is subject to annual review. \\\\n\\\\nP (Permanent) means only that your 100% is not reassessed annually. Thats as good as it gets, because reassessment can always be required somewhere down the road.\\\\n\\\\nWhats down the road? Scrutiny of the VA budget by the new DOGE (Department of Government Efficiency)', 'Maybe the time frame between the last visit for you caused it to lapse and maybe need more evidence. With mine it wasnt too long since I separated when I went to that exam and everything was pretty straight forward and it wasnt too long all done except for them writing the actual name of the condition basically so thats all they did essentially, the diagnosis was basically already there they just said ya they got to this point and put you on this med for the condition but never finish declaring the diagnosis but it seems to be diagnosed as meds etc are helping and they wrote it down that is the official diagnosis essentially. Took over 2 years to get to that point and had to get out before I got the official diagnosis for it.', 'did you get a nexxus done? If not get one to connect it as service connected or secondary', 'make sense. thank you!', \"No nexus letter yet. I'm gonna try a supplemental claim in the next month or so. I was just wondering if it doesn't fly this time should I keep trying. I think I'll be 100% after this next round of supplementals, even if the heart thing doesn't get connected. I'm not even concerned that it get a high rating, i would be happy if it was connected at 0%.  It's 1 of 2 things I can honestly say my military service was responsible for. Things like tinnitus could have happened anyways from working a regular job. But the stress of combat really did aggrivate my heart.\", 'i wouldnt give up. just attack it another way'], 'created_utc': 1732567675.0, 'id': '1gztfex', 'text': \"Is it worth submitting a claim when you're already 100% I am finalizing some claims that I think have a pretty good chance of getting me to 100%. I have a heart condition that has been a pain to get connected and I am wondering if I get to 100% should I still pursue the heart condition? \\\\n\\\\nI am thinking in terms of my wife. When I die I doubt it's going to be because of joint pains or tinnitus, but mostly likely it will involve my heart.  If my heart is not service connected will my wife loose out on benefits?\", 'type': 'submission', 'url': 'https://www.reddit.com/r/VeteransBenefits/comments/1gztfex/is_it_worth_submitting_a_claim_when_youre_already/'}\n",
      "{'comments': ['You will be fine. VA is not going to seek this new sleep study.', \"Get yourself a smart watch that monitors sleep function.  It will record your sleep and will give you information on how well you do sleep.  I wouldn't even consider the inspire if you don't meet the qualifications.  You might have lost weight since the first diagnosis which improved the OSA.\\\\n\\\\nI wouldn't be concerned with the VA they have no access to your private medical files unless you give them access, furthermore the benefits part of the VA is totally separate from the medical side.\", 'Burn that sleep apnea study and move to a new city and state!!!!!\\\\n\\\\n![gif](giphy|3o7bu6cTq42HRz4f6w)', 'P&T no reduction in your future calm down and take a walk. Enjoy your life.', 'Get another study done. Same thing happened to my wife. First one said she was fine, second one a couple weeks later said she definitely needs a cpap. Human error and mechanical failure happen. Second opinions are a thing for a reason.', 'The rating at 50% for sleep apnea is rewarded for being prescribed the CPAP. I\\'m assuming you have a CPAP. The prescription cannot be filled without the correct diagnosis for sleep apnea... All this to say, \"don\\'t poke the bear and stay out of prison a d you\\'ll be fine.\"', 'You are good to go. You not filing for an increase', \"The private medical records can only be released to the VA with a HIPPA release. They won't get them.\", 'Sleep apnea seems to be the new flavor of the month condition that doctors and/or patients are trying to diagnose or be diagnosed with as of late. The threshold seems low and the evidence seems subjective depending on who, how, and where the study is done. I was diagnosed with OSA a few years ago as well, but Im skeptical that I even have it, as nobody sleeps well in a random place hooked up to wires, and required to sleep in positions they dont normally sleep in', 'HIPPA they can not ask for anything without your permission', 'Also P&T means permanent and total if you dont file a new claim they wont look at old claims', \"Do you use a VA issued CPAP? You're not at risk of a reduction if you don't file a claim, but you should be using a CPAP. The implants sound good on paper but they are going to come with their own downsides, and civilian doctors are rightfully going to be a little more discerning in who they diagnose with OSA so they don't go putting electrical devices that interfere with sleep into healthy individuals. Other than being clunky, there's not much downside to a CPAP. \\\\n\\\\nAlso, if you haven't already, message your VA sleep clinic and ask for a Bongo Rx device. I requested one via message through the VA app and they sent me one no questions asked. I just told them that I get frequent power outages and backpack a lot. It's just a strap and with a nose piece, and for VA purposes it counts as treating the osa with a device. Good way to cover your **** and you may very well like it\", 'If this study was done outside of the VA, I would never tell them it existed.  It cant hurt you if they dont know it exists.', 'If you file for an increase with sleep apnea you will be in trouble. So leave it alone.', 'I saw the commercials for that thing and I was \"not inspired\" lol....I\\'m gonna wait for it to be around a few more years, I don\\'t want to end up part of a class action lawsuit lol', 'Well, heres the thing. If you get inspire, theres a good chance they change your rating as well because you wont need a CPAP machine anymore. At least if it gets reported up to VBA. You do realize that right?', \"You're fine. I believe that the only way your rating can be lowered is with proven fraud or an extremely clear mistake.\", 'File for SMC right away.\\\\n\\\\n\\\\nJoking. Do NOT file another claim and they will never have a need to seek and review this bogus sleep study that didnt properly dx you apnea.', \"Don't file any new claims and uou should be fine.\", \"**** if it was a c&p examiner that said you didn't have it you'd be going nuts and saying they were lying and reporting them but because money isn't involved it doesn't really matter. nobody wants to admit how subjective all of this is. that's why cheating is so easy. Buying nexus letters and IMOs is basically paying for an positive opinion. yet nobody wants to believe it. this is a great example of the subjectiveness of it and because a pay check for life is involved you guys go hard. in real life things are very different. you really need to separate the two things.\\\\n\\\\nfor OP: get a third opinion if you need to get approved for inspire transplant and see what happens. if you don't need it for anything then it's really up to you to know if you have it or not.\", 'I always Bring my own medication when I do the sleep studies. After all They only want to see how you sleep.', 'The VA typically wont automatically access your non-VA sleep study unless you submitted directly. Id suggest and it might be worth getting a second opinion from a VA provider especially if you believe your sleep apnea is still a problem.', 'And you may just not have sleep apnea that can be treated by this procedure. I wouldnt worry about it', \"You'd have to file a release with the facility that did the new sleep study before they'd release it to anyone, then have to file a claim with the VBA and point them to that study.\\\\n\\\\nDon't take either of those steps and you're good to go.\", \"The VA as in medical care and the VA for disability claims operates as seperate entities in regards to care vs claims .. so the information the VA has regarding your care doesn't get sent to those who review your claims.\", 'The VA cant just see your medical details at other clinics if you havent given them permission', \"If you have already had your interview for coming off temporarily retired or if you were fully retired you don't have to worry, BUT if you are still in temporary I would get documents of all your appointments and history of you having it. Just one study from a new doctor is not going to negate history. Double check to be sure though.\", 'They gave me 0% for sleep apnea. Like they acknowledged it, but gave 0%. Back pain they say is not service related.', \"You're good!\", 'Especially since its not through the VA, they cant get access to those records unless you specifically hand  them over. Violation of HIPAA otherwise. Youre good. Someone learn me if Im wrong', 'Main issue with ratings is trying to get a higher percentage, you should be fine', 'Get the DAV or other VSO to provide you a copy of your code sheet from the c-file.  If the previous SCd apnea is static...you should be good to go.', 'About the non VA pulmonologist- is that through Care in the Community (VA referral) or are you seeing the Dr through your own insurance? Thats the difference- if its through VA, those Dr are supposed to upload your records to support the VA consult this has happened many times in my own case. But if its your own Dr, then they have no reason to inform the VA. And I have sleep apnea as well I had a home sleep study done at one point on 4th of July and I told the Dr I woke up to the sound of fireworks during the study, so he ordered a second study which showed my sleep apnea was worse. I think Drs have a duty to do a second test if you tell them you doubt the results and why. Otherwise, you can order online sleep studies they can send to your house from a online company so you can test yourself.. if it showed sleep apnea, I would good evidence to show for a re-test. Keep your eye on the new changes to ratings for sleep apnea in 2025.. it may be good or bad. Let us know what happens with you. I know sleep apnea sucks and it truly is a serious health problem to leave untreated. Are you on CPAP by any chance? My AHI was in the mild range, and a Dr said Im not a good candidate for Inspire, unless my sleep apnea gets into the moderate range.\\\\n\\\\nHas anyone on here gotten the Inspire implant for sleep apnea?', 'If you are 50 years old or older, you can never be reevaluated.', 'A quick search on va site would have told you within 5 years the VA can view your claims as unlikely as it is they could. After 5 years they dont look at it unless you ask them too. OSA doesnt get better nor just disappear. So that doctor has no idea what they were doing. Ask for a new study as this was improper assessment.', 'Only if you filled out a 21-4142/4142a that authorizes VA to request from the private provider.', 'I am from the dont ask dont tell era of the military, I strongly suggest you do that.', 'Only if you give the Va that information', 'For future reference use the VAs community care or get seen at another TriCare hospital for tests that might interfere with your disability rating', \"If the sleep study wasn't do t through the va, then no one else can get their hands on that info unless you sign a release of information. Either way, with sleep studies, there's human and mechanical failures all the time. Especially if they didn't let you take a sleep aid, when you usually do\", 'VA is not going to ask for the results of the study, they dont even know you did one. Also, the doctors cannot send your medical records to anyone without your approval. Plus theres due process. You can relax.', 'Was the sleep study one of those take home tests? If so, they are not very accurate.', 'Is it community care?', \"I am also 100% P&T, with sleep apnea and TRICARE.  This is the exact reason I don't go to the VA for any type of care.  They have no access to your civilian records, there for have no ability to lower your rating.  The VA if given the chance will lower your rating.\", 'This. They wont get a copy unless you have it sent to the VA.', 'Haha.    Sorry to laugh but you are placing a level of thoroughness and efficiency that I cannot imagine a government agency capable of.  \\\\n\\\\nDont worry', 'While smart watches can be helpful to some degree I do not trust them for accurate sleep tracking. Mine often determines I am asleep hours before I go to sleep, often times does not detect half the times I wake up through the night and thinks I am still sleeping even after I have been up for half an hour scrolling on my phone. I have used a couple different apple watches, galaxy watch, and fit bit devices and they are all unreliable for sleep tracking. I do like them for the heart rate tracking and other features and have found most of the watches to be incredibly accurate when it comes to that at least.', 'Do all watches monitor your sleep or does it take a particular app to do it?', \"I bought a Samsung smartwatch just to monitor my sleep because I couldn't use my CPAP. Took me my 4th mask style to figure out what works for me.\", \"People do like poking that bear.... What they don't realize is... It is a bear. A bear is a bear....\", \"People I serve with rush to get it because they think it's an easy 50%.\", 'I slept for 2 hours during mine and the longest I went without breathing was like 2.5x longer than I can hold my breath while awake', 'They\\'ve been diagnosing this for many many years.  My PCM when I was active stated she would be surprised if I had Sleep Apnea as I was very fit, but I answered the questions correctly to refer me to the sleep study team which was part of figuring out why I was tired all the time.  Came back with severe CSA diagnosis.  Also, just fyi, Sleep Apnea isn\\'t just \"not sleeping well\", it\\'s not breathing for extended periods of time while asleep.  Could be OSA or CSA, but something is stopping the them from breathing regularly during sleep.  Also, by your logic, everyone that has a sleep study done would be diagnosed with SA, which really isn\\'t the case.', 'It doesnt measure that kind of sleep well.', \"Hi Army Veteran, I've heard about the Bongo Rx device but hadn't talked with anyone with one.  How do you like it?  Do you use it mostly when you're traveling or have you subbed it for your at home cpap?  I use the nostril pillows with my Dreamstation II machine and the Bongo Rx looks similar without the machine part.  Just curious on your experience with Bongo--especially while traveling--I go travel with my cpap but a quick if the Bongo works for fine for a long weekend trip I may be interested in snagging one. \\\\n\\\\nThanks\", 'Uh oh!', \"This. I did a take home test and it came back negative. Didn't believe it and ask for another test and did another test with an in person and was diagnosed with OSA.\", 'Absolutely false statement. And worse than it being false, it fear mongers. \\\\n\\\\nVeterans, if youre 100% PT, your rating is NOT getting reduced. Please go to the VA and get the treatment you need.', 'This is not accurate information if OP used tricare the VHA  has access to through the health exchange. And VHA will update the record accordingly it just takes some time.. \\\\n\\\\nhttps://www.tricare.mil/records#:~:text=The%20jHIE%20is%20now%20available,through%20the%20national%20eHealth%20Exchange.', 'If this is a care in the community thing they will', \"Same.  I suspect they rely heavily on motion to determine wakefulness.  Though I haven't been curious enough to look it up.\", 'Fitbit versa 4 works too.', 'I use a Huawei that communicates with the Huawei health app and tracks sleep and any sleep disturbance.  I think Apple and Samsung do the same kind of thing.', 'If you dont want a watch another option is the Oura ring. Air Force actually issues these to those in high stress career fields.', '# Garmin Instinct 2X Solar, Rugged GPS Smartwatch. It does alot of stuff. you can get them on sale at Amazon $349. Great watch and send you monthly reports. On fee for monitor reports.', 'Alot of smart watches offer sleep tracking I have not found one that has been accurate enough to trust for such things and Ive used galaxy, apple, and fitbit. Most every other function they offer is much more accurate the heart rate accuracy is especially nice, but sleep tracking is something they definitely seem to struggle with. I do not recommend a smart watch for sleep tracking of any sort of accuracy or reliability is needed.', 'My husband has a Fitbit and can download his reports from the Fitbit app.', 'Bears, beets, Battlestar Galactica', 'I mean everyone should get a sleep study done in service. If youre diagnosed, it certainly is an easy 50', \"Honestly I haven't used it. The one time I tried the power was out and I struggled for quite a while in bed, but then the power came back on and I fired up my cpap. One thing I noticed is that even the large pillows felt loose in my ginormous nostrils, so I'm a little worried that it won't work for me when I need it. I have a dental device as well so I have multiple cpap backups lol. I plan on trying the bongo again this summer when backpacking.\", '![gif](giphy|XbOQlInwSkxYICmRYq)', 'My wife needed another sleep study for insurance so she could get a new machine. They sent her home with a home study. They declared she didnt have sleep apnea suddenly after needing a CPAP for over 20 years. She insisted on a regular in the sleep lab study. Her sleep apnea was so bad they were freaking out and rushed her a new machine.', 'Idk dude Id like to trust the government like you do. But history says otherwise. Luckily I got private insurance and champva covers all copays. My doctors arent imported and being underpaid for a visa contract.', 'Exactly! I go to the VA for every 6 month checkup and usually leave with a referral or two for various community care.', 'Thanks I will try that', 'Whoa, where can I find info on that to justify the purchase to the ol lady', 'The Garmin Instinct 2 is on sale on Amazon for $200 right now, had it about a week, and I like it a lot.', 'I use a CPAP and i have severe sleep apnea.  I just never thought of using my Apple watch to track my sleep and see what it says.  Im not trying to get a rating, just for personal information.', 'Identity theft is a crime Jim!', 'Roger that, thanks for the info!', 'Done seent it meowPosted it for the VA to see . Effed up A A Ron', \"Even my new pulmonologist said to me that if the take home study showed negative we will do an in-person lab test. This was before I got my rating. I did the take  home and was diagnosed with mild OSA and needed a cpap. As soon as I submitted my note from my pulmonologist specialist saying I will be issue a cpap, I got rated 50% the next following week without a C&P exam. Glad I didn't have to do one with the VA.\", 'I had one issued along with a garmin: \\\\nhttps://www.military.com/daily-news/2023/12/13/air-force-issues-smartwatches-and-rings-1000-first-sergeants-manage-their-health.html?amp', 'I have the 2x Solar, so I dont need to charge it. Both excellent watches.![img](emote|t5_2vlaz|7572)', 'Again Id recommend a smart watch for most other functions they provide, but sleep tracking as never been anything that close. Often does not detect when I wake up through the night thinks I go to sleep earlier than I do, doesnt detect im awake for awhile after I get up for the day, just not reliable', 'Awesome. I appreciate it. I have an Ultra but want to get rid of it for an Oura. The features that I wanted an Ultra for is what the ring has, arguably better. I have zero use for any of the other stuff on the watch (like telling time lol, texting, weather, calls, depth, etc)', 'Youre welcome! Ive enjoyed having it and the app has other features the Garmin does not. Like insights to help with stress, mediation, sleep etc. There is a subscription fee to consider with Oura.'], 'created_utc': 1732553346.0, 'id': '1gzndz0', 'text': \"Should I be concerned about losing va disability  I am currently 100% p&t for two years now.  I have 50% rating for sleep apnea, without that 50 I would be 94%.\\\\n\\\\nI had a sleep study done when I was active duty  and told I have severe sleep apnea.\\\\n\\\\nFast forward to today.  I did another sleep study through a non VA pulmonolgist(tricare paid) to try to get approved for inspire transplant.  They are saying I don't have sleep apnea.  I do not agree with their assessment and their study as i really did not sleep at all during the study (they said i slept 4 hours, no way). They wouldn't give sleep aid and I am terrible at falling asleep even without being hooked up during a study.\\\\n\\\\nSo now I'm worried,  will the VA get ahold of the new sleep study.  Would they not have access to it since it wasn't a VA connected physician?  I am wondering if I should change pulmonolgist and get a third study or just leave it alone and pray it doesn't go to the VA.\\\\n\\\\nI genuinely believe I have severe sleep apnea as I wake up gasping most nights.\\\\n\\\\nThoughts?\", 'type': 'submission', 'url': 'https://www.reddit.com/r/VeteransBenefits/comments/1gzndz0/should_i_be_concerned_about_losing_va_disability/'}\n",
      "\n",
      "Generated Response:\n",
      " Question: should i be concerned about losing va disability if the latest assesment says that i do not have sleep apnea?\n",
      "\n",
      "Answer: Probably not. Sleep apnea is a significant health concern, but it's not typically a direct cause of VA disability. However, it's possible that the VA may consider sleep apnea as a contributing factor to other conditions that could lead to VA disability.\n",
      "\n",
      "Here are some points to consider:\n",
      "\n",
      "1.  **VA Disability Process**: The VA disability process is complex and involves a series of evaluations and assessments to determine the extent of a disability. Sleep apnea may be considered as a contributing factor to other conditions that could lead to VA disability, but it's not a direct cause.\n",
      "\n",
      "2.  **Medical Evidence**: The VA will typically require medical evidence to support a claim for disability. If you're concerned about your sleep apnea, you should discuss it with your doctor and gather any relevant medical records.\n",
      "\n",
      "3.  **Current Status**: If you're currently receiving treatment for sleep apnea, it's possible that the VA may consider your current condition as part of the overall evaluation process.\n",
      "\n",
      "4.  **Appealing the Decision**: If you're not satisfied with the VA's decision, you can appeal the decision. This process can be complex, but it's a way to ensure that your rights are protected.\n",
      "\n",
      "5.  **Seeking Professional Advice**: If you're concerned about your sleep apnea or any other condition, it's always a good idea to seek professional advice from a medical professional or a disability attorney. They can provide you with guidance and support throughout the process.\n"
     ]
    }
   ],
   "source": [
    "# Main pipeline\n",
    "def main():\n",
    "    # Example query\n",
    "    #query = \"Can a veteran lose their benefits if they have a drug addiction?\"\n",
    "    query = \"should i be concerned about losing va disability if the latest assesment says that i do not have sleep apnea?\"\n",
    "\n",
    "    # Retrieve relevant documents from Pinecone\n",
    "    retrieved_docs = retrieve_documents(query, top_k=5)\n",
    "\n",
    "    # Combine retrieved documents into a single context\n",
    "    context = \"\\n\\n\".join([f\"Document {i+1}: {doc['body']}\" for i, doc in enumerate(retrieved_docs)])\n",
    "\n",
    "    # Generate response\n",
    "    response = generate_response_without_context(query)\n",
    "    #print(\"Retrieved Context:\\n\", context)\n",
    "    print(\"\\nGenerated Response:\\n\", response)\n",
    "\n",
    "\n",
    "if __name__ == \"__main__\":\n",
    "    main()"
   ]
  }
 ],
 "metadata": {
  "kernelspec": {
   "display_name": "Python 3",
   "language": "python",
   "name": "python3"
  },
  "language_info": {
   "codemirror_mode": {
    "name": "ipython",
    "version": 3
   },
   "file_extension": ".py",
   "mimetype": "text/x-python",
   "name": "python",
   "nbconvert_exporter": "python",
   "pygments_lexer": "ipython3",
   "version": "3.11.0"
  }
 },
 "nbformat": 4,
 "nbformat_minor": 2
}
